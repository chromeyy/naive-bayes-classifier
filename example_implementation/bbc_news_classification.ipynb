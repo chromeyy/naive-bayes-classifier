{
 "cells": [
  {
   "cell_type": "markdown",
   "source": [
    "# This is an example of how to use the Naive Bayes Classifier\n",
    "This example uses the BBC news dataset in example_data folder"
   ],
   "metadata": {
    "collapsed": false
   }
  },
  {
   "cell_type": "code",
   "execution_count": 1,
   "metadata": {
    "collapsed": true,
    "ExecuteTime": {
     "end_time": "2024-01-24T11:14:02.760150600Z",
     "start_time": "2024-01-24T11:14:01.749681300Z"
    }
   },
   "outputs": [],
   "source": [
    "# Importing pandas for dataframe manuipulation\n",
    "import pandas as pd\n",
    "\n",
    "# Importing numpy for numerical operations\n",
    "import numpy as np\n",
    "\n",
    "# Importing Naive Bayes Classifier and Preprocessing modules\n",
    "from nbclassifier.base_classifier import Classifier\n",
    "from nbclassifier.naive_bayes_classifier import NaiveBayesClassifier\n",
    "from nbclassifier.preprocessing import TextPreprocessor\n",
    "\n",
    "import time\n",
    "import warnings\n",
    "warnings.filterwarnings(\"ignore\")"
   ]
  },
  {
   "cell_type": "markdown",
   "source": [
    "### Loading the data"
   ],
   "metadata": {
    "collapsed": false
   }
  },
  {
   "cell_type": "code",
   "execution_count": 2,
   "outputs": [],
   "source": [
    "df_train = pd.read_csv(\"../example_data/train.csv\")\n",
    "df_test = pd.read_csv(\"../example_data/test.csv\")"
   ],
   "metadata": {
    "collapsed": false,
    "ExecuteTime": {
     "end_time": "2024-01-24T11:14:02.791395600Z",
     "start_time": "2024-01-24T11:14:02.760150600Z"
    }
   }
  },
  {
   "cell_type": "code",
   "execution_count": 3,
   "outputs": [
    {
     "data": {
      "text/plain": "   ArticleId                                               Text       Category\n0       1976  lifestyle governs mobile choice faster better ...           tech\n1       1797  french honour director parker british film dir...  entertainment\n2       1866  fockers fuel festive film chart comedy meet fo...  entertainment\n3       1153  housewives lift channel 4 ratings debut us tel...  entertainment\n4        342  u2 desire number one u2 three prestigious gram...  entertainment",
      "text/html": "<div>\n<style scoped>\n    .dataframe tbody tr th:only-of-type {\n        vertical-align: middle;\n    }\n\n    .dataframe tbody tr th {\n        vertical-align: top;\n    }\n\n    .dataframe thead th {\n        text-align: right;\n    }\n</style>\n<table border=\"1\" class=\"dataframe\">\n  <thead>\n    <tr style=\"text-align: right;\">\n      <th></th>\n      <th>ArticleId</th>\n      <th>Text</th>\n      <th>Category</th>\n    </tr>\n  </thead>\n  <tbody>\n    <tr>\n      <th>0</th>\n      <td>1976</td>\n      <td>lifestyle governs mobile choice faster better ...</td>\n      <td>tech</td>\n    </tr>\n    <tr>\n      <th>1</th>\n      <td>1797</td>\n      <td>french honour director parker british film dir...</td>\n      <td>entertainment</td>\n    </tr>\n    <tr>\n      <th>2</th>\n      <td>1866</td>\n      <td>fockers fuel festive film chart comedy meet fo...</td>\n      <td>entertainment</td>\n    </tr>\n    <tr>\n      <th>3</th>\n      <td>1153</td>\n      <td>housewives lift channel 4 ratings debut us tel...</td>\n      <td>entertainment</td>\n    </tr>\n    <tr>\n      <th>4</th>\n      <td>342</td>\n      <td>u2 desire number one u2 three prestigious gram...</td>\n      <td>entertainment</td>\n    </tr>\n  </tbody>\n</table>\n</div>"
     },
     "execution_count": 3,
     "metadata": {},
     "output_type": "execute_result"
    }
   ],
   "source": [
    "df_train.head()"
   ],
   "metadata": {
    "collapsed": false,
    "ExecuteTime": {
     "end_time": "2024-01-24T11:14:02.851589900Z",
     "start_time": "2024-01-24T11:14:02.791395600Z"
    }
   }
  },
  {
   "cell_type": "code",
   "execution_count": 4,
   "outputs": [
    {
     "data": {
      "text/plain": "   ArticleId                                               Text       Category\n0       1821  johnny denise lose passport johnny vaughan den...  entertainment\n1        522  bt offers free net phone calls bt offering cus...           tech\n2        636  power people says hp digital revolution focuse...           tech\n3        170  stars gear bafta ceremony film stars across gl...  entertainment\n4         85  controversial film tops festival controversial...  entertainment",
      "text/html": "<div>\n<style scoped>\n    .dataframe tbody tr th:only-of-type {\n        vertical-align: middle;\n    }\n\n    .dataframe tbody tr th {\n        vertical-align: top;\n    }\n\n    .dataframe thead th {\n        text-align: right;\n    }\n</style>\n<table border=\"1\" class=\"dataframe\">\n  <thead>\n    <tr style=\"text-align: right;\">\n      <th></th>\n      <th>ArticleId</th>\n      <th>Text</th>\n      <th>Category</th>\n    </tr>\n  </thead>\n  <tbody>\n    <tr>\n      <th>0</th>\n      <td>1821</td>\n      <td>johnny denise lose passport johnny vaughan den...</td>\n      <td>entertainment</td>\n    </tr>\n    <tr>\n      <th>1</th>\n      <td>522</td>\n      <td>bt offers free net phone calls bt offering cus...</td>\n      <td>tech</td>\n    </tr>\n    <tr>\n      <th>2</th>\n      <td>636</td>\n      <td>power people says hp digital revolution focuse...</td>\n      <td>tech</td>\n    </tr>\n    <tr>\n      <th>3</th>\n      <td>170</td>\n      <td>stars gear bafta ceremony film stars across gl...</td>\n      <td>entertainment</td>\n    </tr>\n    <tr>\n      <th>4</th>\n      <td>85</td>\n      <td>controversial film tops festival controversial...</td>\n      <td>entertainment</td>\n    </tr>\n  </tbody>\n</table>\n</div>"
     },
     "execution_count": 4,
     "metadata": {},
     "output_type": "execute_result"
    }
   ],
   "source": [
    "df_test.head()"
   ],
   "metadata": {
    "collapsed": false,
    "ExecuteTime": {
     "end_time": "2024-01-24T11:14:02.882835600Z",
     "start_time": "2024-01-24T11:14:02.835954200Z"
    }
   }
  },
  {
   "cell_type": "code",
   "execution_count": 5,
   "outputs": [],
   "source": [
    "abstract_header = \"Text\"\n",
    "class_header = \"Category\"\n",
    "x_train = df_train[abstract_header]\n",
    "y_train = df_train[class_header]\n",
    "x_test = df_test[abstract_header]\n",
    "y_test = df_test[class_header]"
   ],
   "metadata": {
    "collapsed": false,
    "ExecuteTime": {
     "end_time": "2024-01-24T11:14:02.930127400Z",
     "start_time": "2024-01-24T11:14:02.851589900Z"
    }
   }
  },
  {
   "cell_type": "markdown",
   "source": [
    "### Preprocessing the data"
   ],
   "metadata": {
    "collapsed": false
   }
  },
  {
   "cell_type": "code",
   "execution_count": 6,
   "outputs": [],
   "source": [
    "article_preprocessor = TextPreprocessor()\n",
    "transformed_x_train = article_preprocessor.fit_transform(x_train)\n",
    "transformed_x_test = article_preprocessor.transform(x_test)"
   ],
   "metadata": {
    "collapsed": false,
    "ExecuteTime": {
     "end_time": "2024-01-24T11:14:03.008247500Z",
     "start_time": "2024-01-24T11:14:02.882835600Z"
    }
   }
  },
  {
   "cell_type": "markdown",
   "source": [
    "### Training the model and predicting on test data"
   ],
   "metadata": {
    "collapsed": false
   }
  },
  {
   "cell_type": "code",
   "execution_count": 7,
   "outputs": [],
   "source": [
    "model = NaiveBayesClassifier()\n",
    "model.train(transformed_x_train, y_train)"
   ],
   "metadata": {
    "collapsed": false,
    "ExecuteTime": {
     "end_time": "2024-01-24T11:14:03.039878700Z",
     "start_time": "2024-01-24T11:14:03.008247500Z"
    }
   }
  },
  {
   "cell_type": "code",
   "execution_count": 8,
   "outputs": [
    {
     "data": {
      "text/plain": "array(['entertainment', 'tech', 'tech', 'entertainment', 'entertainment',\n       'entertainment', 'entertainment', 'tech', 'entertainment',\n       'entertainment', 'entertainment', 'tech', 'entertainment',\n       'entertainment', 'entertainment', 'entertainment', 'entertainment',\n       'entertainment', 'tech', 'tech', 'entertainment', 'entertainment',\n       'tech', 'entertainment', 'tech', 'entertainment', 'tech', 'tech',\n       'entertainment', 'tech', 'entertainment', 'tech', 'tech', 'tech',\n       'entertainment', 'tech', 'entertainment', 'tech', 'tech', 'tech',\n       'tech', 'entertainment', 'entertainment', 'tech', 'entertainment',\n       'entertainment', 'tech', 'entertainment', 'entertainment', 'tech',\n       'tech', 'entertainment', 'entertainment', 'entertainment',\n       'entertainment', 'tech', 'entertainment', 'tech', 'tech', 'tech',\n       'tech', 'tech', 'tech', 'tech', 'entertainment', 'entertainment',\n       'tech', 'entertainment', 'entertainment', 'tech', 'entertainment',\n       'entertainment', 'tech', 'entertainment', 'entertainment',\n       'entertainment', 'tech', 'entertainment', 'entertainment',\n       'entertainment', 'entertainment', 'entertainment', 'tech', 'tech',\n       'tech', 'tech', 'entertainment', 'entertainment', 'entertainment',\n       'tech', 'entertainment', 'entertainment', 'entertainment', 'tech',\n       'entertainment', 'tech', 'tech', 'tech', 'entertainment', 'tech',\n       'tech', 'entertainment', 'entertainment', 'entertainment', 'tech',\n       'tech'], dtype='<U13')"
     },
     "execution_count": 8,
     "metadata": {},
     "output_type": "execute_result"
    }
   ],
   "source": [
    "predictions = model.predict(transformed_x_test)\n",
    "predictions"
   ],
   "metadata": {
    "collapsed": false,
    "ExecuteTime": {
     "end_time": "2024-01-24T11:14:03.071128500Z",
     "start_time": "2024-01-24T11:14:03.039878700Z"
    }
   }
  },
  {
   "cell_type": "markdown",
   "source": [
    "### Evaluating the model's predictions"
   ],
   "metadata": {
    "collapsed": false
   }
  },
  {
   "cell_type": "code",
   "execution_count": 9,
   "outputs": [
    {
     "data": {
      "text/plain": "0.9716981132075472"
     },
     "execution_count": 9,
     "metadata": {},
     "output_type": "execute_result"
    }
   ],
   "source": [
    "np.sum(predictions == y_test)/len(predictions)"
   ],
   "metadata": {
    "collapsed": false,
    "ExecuteTime": {
     "end_time": "2024-01-24T11:14:03.081351300Z",
     "start_time": "2024-01-24T11:14:03.055505600Z"
    }
   }
  }
 ],
 "metadata": {
  "kernelspec": {
   "display_name": "Python 3",
   "language": "python",
   "name": "python3"
  },
  "language_info": {
   "codemirror_mode": {
    "name": "ipython",
    "version": 2
   },
   "file_extension": ".py",
   "mimetype": "text/x-python",
   "name": "python",
   "nbconvert_exporter": "python",
   "pygments_lexer": "ipython2",
   "version": "2.7.6"
  }
 },
 "nbformat": 4,
 "nbformat_minor": 0
}
